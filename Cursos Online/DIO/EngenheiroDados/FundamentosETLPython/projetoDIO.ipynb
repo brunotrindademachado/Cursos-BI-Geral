{
 "cells": [
  {
   "cell_type": "code",
   "execution_count": 1,
   "id": "f6cec1a1-9d68-48c3-bf8c-ec7087824331",
   "metadata": {},
   "outputs": [],
   "source": [
    "import pandas as pd\n",
    "import pandera as pa"
   ]
  },
  {
   "cell_type": "code",
   "execution_count": 2,
   "id": "ea81ebf8-2a9a-4e6f-9adc-78ba9b0abd32",
   "metadata": {
    "scrolled": true
   },
   "outputs": [
    {
     "data": {
      "text/html": [
       "<div>\n",
       "<style scoped>\n",
       "    .dataframe tbody tr th:only-of-type {\n",
       "        vertical-align: middle;\n",
       "    }\n",
       "\n",
       "    .dataframe tbody tr th {\n",
       "        vertical-align: top;\n",
       "    }\n",
       "\n",
       "    .dataframe thead th {\n",
       "        text-align: right;\n",
       "    }\n",
       "</style>\n",
       "<table border=\"1\" class=\"dataframe\">\n",
       "  <thead>\n",
       "    <tr style=\"text-align: right;\">\n",
       "      <th></th>\n",
       "      <th>codigo_ocorrencia</th>\n",
       "      <th>codigo_ocorrencia2</th>\n",
       "      <th>ocorrencia_classificacao</th>\n",
       "      <th>ocorrencia_cidade</th>\n",
       "      <th>ocorrencia_uf</th>\n",
       "      <th>ocorrencia_aerodromo</th>\n",
       "      <th>ocorrencia_dia</th>\n",
       "      <th>ocorrencia_hora</th>\n",
       "      <th>total_recomendacoes</th>\n",
       "    </tr>\n",
       "  </thead>\n",
       "  <tbody>\n",
       "    <tr>\n",
       "      <th>6104</th>\n",
       "      <td>80238</td>\n",
       "      <td>80238</td>\n",
       "      <td>INCIDENTE GRAVE</td>\n",
       "      <td>VOTUPORANGA</td>\n",
       "      <td>SP</td>\n",
       "      <td>SDVG</td>\n",
       "      <td>2021-08-11</td>\n",
       "      <td>19:09:00</td>\n",
       "      <td>0</td>\n",
       "    </tr>\n",
       "    <tr>\n",
       "      <th>6105</th>\n",
       "      <td>80239</td>\n",
       "      <td>80239</td>\n",
       "      <td>INCIDENTE</td>\n",
       "      <td>BELO HORIZONTE</td>\n",
       "      <td>MG</td>\n",
       "      <td>SBBH</td>\n",
       "      <td>2021-08-11</td>\n",
       "      <td>19:58:00</td>\n",
       "      <td>0</td>\n",
       "    </tr>\n",
       "    <tr>\n",
       "      <th>6106</th>\n",
       "      <td>80249</td>\n",
       "      <td>80249</td>\n",
       "      <td>INCIDENTE</td>\n",
       "      <td>MANAUS</td>\n",
       "      <td>AM</td>\n",
       "      <td>SBEG</td>\n",
       "      <td>2021-08-14</td>\n",
       "      <td>15:40:00</td>\n",
       "      <td>0</td>\n",
       "    </tr>\n",
       "    <tr>\n",
       "      <th>6107</th>\n",
       "      <td>80243</td>\n",
       "      <td>80243</td>\n",
       "      <td>INCIDENTE</td>\n",
       "      <td>BELO HORIZONTE</td>\n",
       "      <td>MG</td>\n",
       "      <td>SBBH</td>\n",
       "      <td>2021-08-15</td>\n",
       "      <td>17:14:00</td>\n",
       "      <td>0</td>\n",
       "    </tr>\n",
       "    <tr>\n",
       "      <th>6108</th>\n",
       "      <td>80244</td>\n",
       "      <td>80244</td>\n",
       "      <td>INCIDENTE</td>\n",
       "      <td>BRAGANÇA PAULISTA</td>\n",
       "      <td>SP</td>\n",
       "      <td>SBBP</td>\n",
       "      <td>2021-08-15</td>\n",
       "      <td>15:20:00</td>\n",
       "      <td>0</td>\n",
       "    </tr>\n",
       "    <tr>\n",
       "      <th>6109</th>\n",
       "      <td>80245</td>\n",
       "      <td>80245</td>\n",
       "      <td>INCIDENTE</td>\n",
       "      <td>RECIFE</td>\n",
       "      <td>PE</td>\n",
       "      <td>SBRF</td>\n",
       "      <td>2021-08-15</td>\n",
       "      <td>15:05:00</td>\n",
       "      <td>0</td>\n",
       "    </tr>\n",
       "    <tr>\n",
       "      <th>6110</th>\n",
       "      <td>80247</td>\n",
       "      <td>80247</td>\n",
       "      <td>INCIDENTE</td>\n",
       "      <td>PORTO VELHO</td>\n",
       "      <td>RO</td>\n",
       "      <td>SBPV</td>\n",
       "      <td>2021-08-16</td>\n",
       "      <td>02:30:00</td>\n",
       "      <td>0</td>\n",
       "    </tr>\n",
       "    <tr>\n",
       "      <th>6111</th>\n",
       "      <td>80251</td>\n",
       "      <td>80251</td>\n",
       "      <td>INCIDENTE</td>\n",
       "      <td>BELÉM</td>\n",
       "      <td>PA</td>\n",
       "      <td>SBBE</td>\n",
       "      <td>2021-08-17</td>\n",
       "      <td>15:45:00</td>\n",
       "      <td>0</td>\n",
       "    </tr>\n",
       "    <tr>\n",
       "      <th>6112</th>\n",
       "      <td>80257</td>\n",
       "      <td>80257</td>\n",
       "      <td>ACIDENTE</td>\n",
       "      <td>DOM AQUINO</td>\n",
       "      <td>MT</td>\n",
       "      <td>****</td>\n",
       "      <td>2021-08-18</td>\n",
       "      <td>16:00:00</td>\n",
       "      <td>0</td>\n",
       "    </tr>\n",
       "    <tr>\n",
       "      <th>6113</th>\n",
       "      <td>80259</td>\n",
       "      <td>80259</td>\n",
       "      <td>INCIDENTE</td>\n",
       "      <td>CAMPINAS</td>\n",
       "      <td>SP</td>\n",
       "      <td>SBKP</td>\n",
       "      <td>2021-08-18</td>\n",
       "      <td>12:45:00</td>\n",
       "      <td>0</td>\n",
       "    </tr>\n",
       "  </tbody>\n",
       "</table>\n",
       "</div>"
      ],
      "text/plain": [
       "      codigo_ocorrencia  codigo_ocorrencia2 ocorrencia_classificacao  \\\n",
       "6104              80238               80238          INCIDENTE GRAVE   \n",
       "6105              80239               80239                INCIDENTE   \n",
       "6106              80249               80249                INCIDENTE   \n",
       "6107              80243               80243                INCIDENTE   \n",
       "6108              80244               80244                INCIDENTE   \n",
       "6109              80245               80245                INCIDENTE   \n",
       "6110              80247               80247                INCIDENTE   \n",
       "6111              80251               80251                INCIDENTE   \n",
       "6112              80257               80257                 ACIDENTE   \n",
       "6113              80259               80259                INCIDENTE   \n",
       "\n",
       "      ocorrencia_cidade ocorrencia_uf ocorrencia_aerodromo ocorrencia_dia  \\\n",
       "6104        VOTUPORANGA            SP                 SDVG     2021-08-11   \n",
       "6105     BELO HORIZONTE            MG                 SBBH     2021-08-11   \n",
       "6106             MANAUS            AM                 SBEG     2021-08-14   \n",
       "6107     BELO HORIZONTE            MG                 SBBH     2021-08-15   \n",
       "6108  BRAGANÇA PAULISTA            SP                 SBBP     2021-08-15   \n",
       "6109             RECIFE            PE                 SBRF     2021-08-15   \n",
       "6110        PORTO VELHO            RO                 SBPV     2021-08-16   \n",
       "6111              BELÉM            PA                 SBBE     2021-08-17   \n",
       "6112         DOM AQUINO            MT                 ****     2021-08-18   \n",
       "6113           CAMPINAS            SP                 SBKP     2021-08-18   \n",
       "\n",
       "     ocorrencia_hora  total_recomendacoes  \n",
       "6104        19:09:00                    0  \n",
       "6105        19:58:00                    0  \n",
       "6106        15:40:00                    0  \n",
       "6107        17:14:00                    0  \n",
       "6108        15:20:00                    0  \n",
       "6109        15:05:00                    0  \n",
       "6110        02:30:00                    0  \n",
       "6111        15:45:00                    0  \n",
       "6112        16:00:00                    0  \n",
       "6113        12:45:00                    0  "
      ]
     },
     "execution_count": 2,
     "metadata": {},
     "output_type": "execute_result"
    }
   ],
   "source": [
    "df = pd.read_csv(\"ocorrencia_2010_2021.csv\", sep=\";\", parse_dates=['ocorrencia_dia'], dayfirst=True)\n",
    "df.tail(10)\n"
   ]
  },
  {
   "cell_type": "code",
   "execution_count": 11,
   "id": "ace9b816",
   "metadata": {},
   "outputs": [],
   "source": [
    "schema = pa.DataFrameSchema(\n",
    "    columns  = {\n",
    "        \"codigo_ocorrencia\":pa.Column(pa.Int),\n",
    "        \"codigo_ocorrencia2\":pa.Column(pa.Int),\n",
    "        \"ocorrencia_classificacao\":pa.Column(pa.String),\n",
    "        \"ocorrencia_cidade\":pa.Column(pa.String),\n",
    "        \"ocorrencia_uf\":pa.Column(pa.String, pa.Check.str_length(2,2)),\n",
    "        \"ocorrencia_aerodromo\":pa.Column(pa.String),\n",
    "        \"ocorrencia_dia\":pa.Column(pa.DateTime),\n",
    "        \"ocorrencia_hora\":pa.Column(pa.String, pa.Check.str_matches(r'^([0-1]?[0-9]|[2][0-3]):([0-5][0-9]):(:[0-5][0-9])?$'), nullable=True),\n",
    "        \"total_recomendacoes\":pa.Column(pa.Int),\n",
    "        \n",
    "    }\n",
    ")"
   ]
  },
  {
   "cell_type": "code",
   "execution_count": 12,
   "id": "05577f70",
   "metadata": {},
   "outputs": [
    {
     "ename": "SchemaError",
     "evalue": "<Schema Column(name=ocorrencia_uf, type=DataType(str))> failed element-wise validator 0:\n<Check str_length: str_length(2, 2)>\nfailure cases:\n   index failure_case\n0   2227          ***\n1   5855          ***",
     "output_type": "error",
     "traceback": [
      "\u001b[1;31m---------------------------------------------------------------------------\u001b[0m",
      "\u001b[1;31mSchemaError\u001b[0m                               Traceback (most recent call last)",
      "\u001b[1;32m<ipython-input-12-dc85ea979a2b>\u001b[0m in \u001b[0;36m<module>\u001b[1;34m\u001b[0m\n\u001b[1;32m----> 1\u001b[1;33m \u001b[0mschema\u001b[0m\u001b[1;33m.\u001b[0m\u001b[0mvalidate\u001b[0m\u001b[1;33m(\u001b[0m\u001b[0mdf\u001b[0m\u001b[1;33m)\u001b[0m\u001b[1;33m\u001b[0m\u001b[1;33m\u001b[0m\u001b[0m\n\u001b[0m",
      "\u001b[1;32mC:\\ProgramData\\Anaconda3\\lib\\site-packages\\pandera\\schemas.py\u001b[0m in \u001b[0;36mvalidate\u001b[1;34m(self, check_obj, head, tail, sample, random_state, lazy, inplace)\u001b[0m\n\u001b[0;32m    592\u001b[0m                 \u001b[0mcheck_results\u001b[0m\u001b[1;33m.\u001b[0m\u001b[0mappend\u001b[0m\u001b[1;33m(\u001b[0m\u001b[0misinstance\u001b[0m\u001b[1;33m(\u001b[0m\u001b[0mresult\u001b[0m\u001b[1;33m,\u001b[0m \u001b[0mpd\u001b[0m\u001b[1;33m.\u001b[0m\u001b[0mDataFrame\u001b[0m\u001b[1;33m)\u001b[0m\u001b[1;33m)\u001b[0m\u001b[1;33m\u001b[0m\u001b[1;33m\u001b[0m\u001b[0m\n\u001b[0;32m    593\u001b[0m             \u001b[1;32mexcept\u001b[0m \u001b[0merrors\u001b[0m\u001b[1;33m.\u001b[0m\u001b[0mSchemaError\u001b[0m \u001b[1;32mas\u001b[0m \u001b[0merr\u001b[0m\u001b[1;33m:\u001b[0m\u001b[1;33m\u001b[0m\u001b[1;33m\u001b[0m\u001b[0m\n\u001b[1;32m--> 594\u001b[1;33m                 \u001b[0merror_handler\u001b[0m\u001b[1;33m.\u001b[0m\u001b[0mcollect_error\u001b[0m\u001b[1;33m(\u001b[0m\u001b[1;34m\"schema_component_check\"\u001b[0m\u001b[1;33m,\u001b[0m \u001b[0merr\u001b[0m\u001b[1;33m)\u001b[0m\u001b[1;33m\u001b[0m\u001b[1;33m\u001b[0m\u001b[0m\n\u001b[0m\u001b[0;32m    595\u001b[0m             \u001b[1;32mexcept\u001b[0m \u001b[0merrors\u001b[0m\u001b[1;33m.\u001b[0m\u001b[0mSchemaErrors\u001b[0m \u001b[1;32mas\u001b[0m \u001b[0merr\u001b[0m\u001b[1;33m:\u001b[0m\u001b[1;33m\u001b[0m\u001b[1;33m\u001b[0m\u001b[0m\n\u001b[0;32m    596\u001b[0m                 \u001b[1;32mfor\u001b[0m \u001b[0mschema_error_dict\u001b[0m \u001b[1;32min\u001b[0m \u001b[0merr\u001b[0m\u001b[1;33m.\u001b[0m\u001b[0mschema_errors\u001b[0m\u001b[1;33m:\u001b[0m\u001b[1;33m\u001b[0m\u001b[1;33m\u001b[0m\u001b[0m\n",
      "\u001b[1;32mC:\\ProgramData\\Anaconda3\\lib\\site-packages\\pandera\\error_handlers.py\u001b[0m in \u001b[0;36mcollect_error\u001b[1;34m(self, reason_code, schema_error, original_exc)\u001b[0m\n\u001b[0;32m     30\u001b[0m         \"\"\"\n\u001b[0;32m     31\u001b[0m         \u001b[1;32mif\u001b[0m \u001b[1;32mnot\u001b[0m \u001b[0mself\u001b[0m\u001b[1;33m.\u001b[0m\u001b[0m_lazy\u001b[0m\u001b[1;33m:\u001b[0m\u001b[1;33m\u001b[0m\u001b[1;33m\u001b[0m\u001b[0m\n\u001b[1;32m---> 32\u001b[1;33m             \u001b[1;32mraise\u001b[0m \u001b[0mschema_error\u001b[0m \u001b[1;32mfrom\u001b[0m \u001b[0moriginal_exc\u001b[0m\u001b[1;33m\u001b[0m\u001b[1;33m\u001b[0m\u001b[0m\n\u001b[0m\u001b[0;32m     33\u001b[0m \u001b[1;33m\u001b[0m\u001b[0m\n\u001b[0;32m     34\u001b[0m         \u001b[1;31m# delete data of validated object from SchemaError object to prevent\u001b[0m\u001b[1;33m\u001b[0m\u001b[1;33m\u001b[0m\u001b[1;33m\u001b[0m\u001b[0m\n",
      "\u001b[1;32mC:\\ProgramData\\Anaconda3\\lib\\site-packages\\pandera\\schemas.py\u001b[0m in \u001b[0;36mvalidate\u001b[1;34m(self, check_obj, head, tail, sample, random_state, lazy, inplace)\u001b[0m\n\u001b[0;32m    584\u001b[0m         \u001b[1;32mfor\u001b[0m \u001b[0mschema_component\u001b[0m \u001b[1;32min\u001b[0m \u001b[0mschema_components\u001b[0m\u001b[1;33m:\u001b[0m\u001b[1;33m\u001b[0m\u001b[1;33m\u001b[0m\u001b[0m\n\u001b[0;32m    585\u001b[0m             \u001b[1;32mtry\u001b[0m\u001b[1;33m:\u001b[0m\u001b[1;33m\u001b[0m\u001b[1;33m\u001b[0m\u001b[0m\n\u001b[1;32m--> 586\u001b[1;33m                 result = schema_component(\n\u001b[0m\u001b[0;32m    587\u001b[0m                     \u001b[0mdf_to_validate\u001b[0m\u001b[1;33m,\u001b[0m\u001b[1;33m\u001b[0m\u001b[1;33m\u001b[0m\u001b[0m\n\u001b[0;32m    588\u001b[0m                     \u001b[0mlazy\u001b[0m\u001b[1;33m=\u001b[0m\u001b[0mlazy\u001b[0m\u001b[1;33m,\u001b[0m\u001b[1;33m\u001b[0m\u001b[1;33m\u001b[0m\u001b[0m\n",
      "\u001b[1;32mC:\\ProgramData\\Anaconda3\\lib\\site-packages\\pandera\\schemas.py\u001b[0m in \u001b[0;36m__call__\u001b[1;34m(self, check_obj, head, tail, sample, random_state, lazy, inplace)\u001b[0m\n\u001b[0;32m   1824\u001b[0m     ) -> Union[pd.DataFrame, pd.Series]:\n\u001b[0;32m   1825\u001b[0m         \u001b[1;34m\"\"\"Alias for ``validate`` method.\"\"\"\u001b[0m\u001b[1;33m\u001b[0m\u001b[1;33m\u001b[0m\u001b[0m\n\u001b[1;32m-> 1826\u001b[1;33m         return self.validate(\n\u001b[0m\u001b[0;32m   1827\u001b[0m             \u001b[0mcheck_obj\u001b[0m\u001b[1;33m,\u001b[0m \u001b[0mhead\u001b[0m\u001b[1;33m,\u001b[0m \u001b[0mtail\u001b[0m\u001b[1;33m,\u001b[0m \u001b[0msample\u001b[0m\u001b[1;33m,\u001b[0m \u001b[0mrandom_state\u001b[0m\u001b[1;33m,\u001b[0m \u001b[0mlazy\u001b[0m\u001b[1;33m,\u001b[0m \u001b[0minplace\u001b[0m\u001b[1;33m\u001b[0m\u001b[1;33m\u001b[0m\u001b[0m\n\u001b[0;32m   1828\u001b[0m         )\n",
      "\u001b[1;32mC:\\ProgramData\\Anaconda3\\lib\\site-packages\\pandera\\schema_components.py\u001b[0m in \u001b[0;36mvalidate\u001b[1;34m(self, check_obj, head, tail, sample, random_state, lazy, inplace)\u001b[0m\n\u001b[0;32m    212\u001b[0m                     )\n\u001b[0;32m    213\u001b[0m             \u001b[1;32melse\u001b[0m\u001b[1;33m:\u001b[0m\u001b[1;33m\u001b[0m\u001b[1;33m\u001b[0m\u001b[0m\n\u001b[1;32m--> 214\u001b[1;33m                 \u001b[0mvalidate_column\u001b[0m\u001b[1;33m(\u001b[0m\u001b[0mcheck_obj\u001b[0m\u001b[1;33m,\u001b[0m \u001b[0mcolumn_name\u001b[0m\u001b[1;33m)\u001b[0m\u001b[1;33m\u001b[0m\u001b[1;33m\u001b[0m\u001b[0m\n\u001b[0m\u001b[0;32m    215\u001b[0m \u001b[1;33m\u001b[0m\u001b[0m\n\u001b[0;32m    216\u001b[0m         \u001b[1;32mreturn\u001b[0m \u001b[0mcheck_obj\u001b[0m\u001b[1;33m\u001b[0m\u001b[1;33m\u001b[0m\u001b[0m\n",
      "\u001b[1;32mC:\\ProgramData\\Anaconda3\\lib\\site-packages\\pandera\\schema_components.py\u001b[0m in \u001b[0;36mvalidate_column\u001b[1;34m(check_obj, column_name)\u001b[0m\n\u001b[0;32m    185\u001b[0m \u001b[1;33m\u001b[0m\u001b[0m\n\u001b[0;32m    186\u001b[0m         \u001b[1;32mdef\u001b[0m \u001b[0mvalidate_column\u001b[0m\u001b[1;33m(\u001b[0m\u001b[0mcheck_obj\u001b[0m\u001b[1;33m,\u001b[0m \u001b[0mcolumn_name\u001b[0m\u001b[1;33m)\u001b[0m\u001b[1;33m:\u001b[0m\u001b[1;33m\u001b[0m\u001b[1;33m\u001b[0m\u001b[0m\n\u001b[1;32m--> 187\u001b[1;33m             super(Column, copy(self).set_name(column_name)).validate(\n\u001b[0m\u001b[0;32m    188\u001b[0m                 \u001b[0mcheck_obj\u001b[0m\u001b[1;33m,\u001b[0m\u001b[1;33m\u001b[0m\u001b[1;33m\u001b[0m\u001b[0m\n\u001b[0;32m    189\u001b[0m                 \u001b[0mhead\u001b[0m\u001b[1;33m,\u001b[0m\u001b[1;33m\u001b[0m\u001b[1;33m\u001b[0m\u001b[0m\n",
      "\u001b[1;32mC:\\ProgramData\\Anaconda3\\lib\\site-packages\\pandera\\schemas.py\u001b[0m in \u001b[0;36mvalidate\u001b[1;34m(self, check_obj, head, tail, sample, random_state, lazy, inplace)\u001b[0m\n\u001b[0;32m   1786\u001b[0m                 )\n\u001b[0;32m   1787\u001b[0m             \u001b[1;32mexcept\u001b[0m \u001b[0merrors\u001b[0m\u001b[1;33m.\u001b[0m\u001b[0mSchemaError\u001b[0m \u001b[1;32mas\u001b[0m \u001b[0merr\u001b[0m\u001b[1;33m:\u001b[0m\u001b[1;33m\u001b[0m\u001b[1;33m\u001b[0m\u001b[0m\n\u001b[1;32m-> 1788\u001b[1;33m                 \u001b[0merror_handler\u001b[0m\u001b[1;33m.\u001b[0m\u001b[0mcollect_error\u001b[0m\u001b[1;33m(\u001b[0m\u001b[1;34m\"dataframe_check\"\u001b[0m\u001b[1;33m,\u001b[0m \u001b[0merr\u001b[0m\u001b[1;33m)\u001b[0m\u001b[1;33m\u001b[0m\u001b[1;33m\u001b[0m\u001b[0m\n\u001b[0m\u001b[0;32m   1789\u001b[0m             \u001b[1;32mexcept\u001b[0m \u001b[0mException\u001b[0m \u001b[1;32mas\u001b[0m \u001b[0merr\u001b[0m\u001b[1;33m:\u001b[0m  \u001b[1;31m# pylint: disable=broad-except\u001b[0m\u001b[1;33m\u001b[0m\u001b[1;33m\u001b[0m\u001b[0m\n\u001b[0;32m   1790\u001b[0m                 \u001b[1;31m# catch other exceptions that may occur when executing the\u001b[0m\u001b[1;33m\u001b[0m\u001b[1;33m\u001b[0m\u001b[1;33m\u001b[0m\u001b[0m\n",
      "\u001b[1;32mC:\\ProgramData\\Anaconda3\\lib\\site-packages\\pandera\\error_handlers.py\u001b[0m in \u001b[0;36mcollect_error\u001b[1;34m(self, reason_code, schema_error, original_exc)\u001b[0m\n\u001b[0;32m     30\u001b[0m         \"\"\"\n\u001b[0;32m     31\u001b[0m         \u001b[1;32mif\u001b[0m \u001b[1;32mnot\u001b[0m \u001b[0mself\u001b[0m\u001b[1;33m.\u001b[0m\u001b[0m_lazy\u001b[0m\u001b[1;33m:\u001b[0m\u001b[1;33m\u001b[0m\u001b[1;33m\u001b[0m\u001b[0m\n\u001b[1;32m---> 32\u001b[1;33m             \u001b[1;32mraise\u001b[0m \u001b[0mschema_error\u001b[0m \u001b[1;32mfrom\u001b[0m \u001b[0moriginal_exc\u001b[0m\u001b[1;33m\u001b[0m\u001b[1;33m\u001b[0m\u001b[0m\n\u001b[0m\u001b[0;32m     33\u001b[0m \u001b[1;33m\u001b[0m\u001b[0m\n\u001b[0;32m     34\u001b[0m         \u001b[1;31m# delete data of validated object from SchemaError object to prevent\u001b[0m\u001b[1;33m\u001b[0m\u001b[1;33m\u001b[0m\u001b[1;33m\u001b[0m\u001b[0m\n",
      "\u001b[1;32mC:\\ProgramData\\Anaconda3\\lib\\site-packages\\pandera\\schemas.py\u001b[0m in \u001b[0;36mvalidate\u001b[1;34m(self, check_obj, head, tail, sample, random_state, lazy, inplace)\u001b[0m\n\u001b[0;32m   1781\u001b[0m             \u001b[1;32mtry\u001b[0m\u001b[1;33m:\u001b[0m\u001b[1;33m\u001b[0m\u001b[1;33m\u001b[0m\u001b[0m\n\u001b[0;32m   1782\u001b[0m                 check_results.append(\n\u001b[1;32m-> 1783\u001b[1;33m                     _handle_check_results(\n\u001b[0m\u001b[0;32m   1784\u001b[0m                         \u001b[0mself\u001b[0m\u001b[1;33m,\u001b[0m \u001b[0mcheck_index\u001b[0m\u001b[1;33m,\u001b[0m \u001b[0mcheck\u001b[0m\u001b[1;33m,\u001b[0m \u001b[0mcheck_obj\u001b[0m\u001b[1;33m,\u001b[0m \u001b[1;33m*\u001b[0m\u001b[0mcheck_args\u001b[0m\u001b[1;33m\u001b[0m\u001b[1;33m\u001b[0m\u001b[0m\n\u001b[0;32m   1785\u001b[0m                     )\n",
      "\u001b[1;32mC:\\ProgramData\\Anaconda3\\lib\\site-packages\\pandera\\schemas.py\u001b[0m in \u001b[0;36m_handle_check_results\u001b[1;34m(schema, check_index, check, check_obj, *check_args)\u001b[0m\n\u001b[0;32m   2106\u001b[0m             \u001b[0mwarnings\u001b[0m\u001b[1;33m.\u001b[0m\u001b[0mwarn\u001b[0m\u001b[1;33m(\u001b[0m\u001b[0merror_msg\u001b[0m\u001b[1;33m,\u001b[0m \u001b[0mUserWarning\u001b[0m\u001b[1;33m)\u001b[0m\u001b[1;33m\u001b[0m\u001b[1;33m\u001b[0m\u001b[0m\n\u001b[0;32m   2107\u001b[0m             \u001b[1;32mreturn\u001b[0m \u001b[1;32mTrue\u001b[0m\u001b[1;33m\u001b[0m\u001b[1;33m\u001b[0m\u001b[0m\n\u001b[1;32m-> 2108\u001b[1;33m         raise errors.SchemaError(\n\u001b[0m\u001b[0;32m   2109\u001b[0m             \u001b[0mschema\u001b[0m\u001b[1;33m,\u001b[0m\u001b[1;33m\u001b[0m\u001b[1;33m\u001b[0m\u001b[0m\n\u001b[0;32m   2110\u001b[0m             \u001b[0mcheck_obj\u001b[0m\u001b[1;33m,\u001b[0m\u001b[1;33m\u001b[0m\u001b[1;33m\u001b[0m\u001b[0m\n",
      "\u001b[1;31mSchemaError\u001b[0m: <Schema Column(name=ocorrencia_uf, type=DataType(str))> failed element-wise validator 0:\n<Check str_length: str_length(2, 2)>\nfailure cases:\n   index failure_case\n0   2227          ***\n1   5855          ***"
     ]
    }
   ],
   "source": [
    "schema.validate(df)"
   ]
  },
  {
   "cell_type": "code",
   "execution_count": 5,
   "id": "cb7a1639-b6c8-418d-a836-2872deb4564f",
   "metadata": {},
   "outputs": [
    {
     "data": {
      "text/plain": [
       "0       1\n",
       "1       1\n",
       "2       1\n",
       "3       1\n",
       "4       1\n",
       "       ..\n",
       "6109    8\n",
       "6110    8\n",
       "6111    8\n",
       "6112    8\n",
       "6113    8\n",
       "Name: ocorrencia_dia, Length: 6114, dtype: int64"
      ]
     },
     "execution_count": 5,
     "metadata": {},
     "output_type": "execute_result"
    }
   ],
   "source": [
    "df.dtypes\n",
    "df.ocorrencia_dia.dt.month"
   ]
  },
  {
   "cell_type": "code",
   "execution_count": 6,
   "id": "8b17eb03",
   "metadata": {
    "scrolled": true
   },
   "outputs": [
    {
     "data": {
      "text/plain": [
       "codigo_ocorrencia                    int64\n",
       "codigo_ocorrencia2                   int64\n",
       "ocorrencia_classificacao            object\n",
       "ocorrencia_cidade                   object\n",
       "ocorrencia_uf                       object\n",
       "ocorrencia_aerodromo                object\n",
       "ocorrencia_dia              datetime64[ns]\n",
       "ocorrencia_hora                     object\n",
       "total_recomendacoes                  int64\n",
       "dtype: object"
      ]
     },
     "execution_count": 6,
     "metadata": {},
     "output_type": "execute_result"
    }
   ],
   "source": [
    "df.dtypes"
   ]
  },
  {
   "cell_type": "raw",
   "id": "add5104f",
   "metadata": {},
   "source": [
    "pip install pandera\n"
   ]
  }
 ],
 "metadata": {
  "kernelspec": {
   "display_name": "Python 3",
   "language": "python",
   "name": "python3"
  },
  "language_info": {
   "codemirror_mode": {
    "name": "ipython",
    "version": 3
   },
   "file_extension": ".py",
   "mimetype": "text/x-python",
   "name": "python",
   "nbconvert_exporter": "python",
   "pygments_lexer": "ipython3",
   "version": "3.8.8"
  }
 },
 "nbformat": 4,
 "nbformat_minor": 5
}
